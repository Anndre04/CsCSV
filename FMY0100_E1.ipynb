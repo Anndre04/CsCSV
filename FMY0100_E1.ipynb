{
  "nbformat": 4,
  "nbformat_minor": 0,
  "metadata": {
    "colab": {
      "provenance": []
    },
    "kernelspec": {
      "name": "python3",
      "display_name": "Python 3"
    },
    "language_info": {
      "name": "python"
    }
  },
  "cells": [
    {
      "cell_type": "markdown",
      "source": [
        "![](https://www.googleapis.com/download/storage/v1/b/kaggle-user-content/o/inbox%2F4895752%2F391fac1718d81b6c7cf0b53eb231d562%2Finbox_4895752_5e4735cb769c6be5f5872a052d0007e2_841520521_preview_20170113163124_2.jpg?generation=1597574096430659&alt=media)\n",
        "\n",
        "**INTEGRANTES**\n",
        "\n",
        "+ Integrante 1\n",
        "+ Integrante 2\n",
        "+ Integrante 3"
      ],
      "metadata": {
        "id": "r1NINM_sdcTP"
      }
    },
    {
      "cell_type": "code",
      "execution_count": 1,
      "metadata": {
        "colab": {
          "base_uri": "https://localhost:8080/"
        },
        "id": "csszaQ_3dUIB",
        "outputId": "38fbca71-d52d-4252-c167-0c9a6b2c1c1d"
      },
      "outputs": [
        {
          "output_type": "stream",
          "name": "stdout",
          "text": [
            "--2024-09-01 02:42:55--  https://www.dropbox.com/s/sst1u94436vqca6/demo_round_traces.csv\n",
            "Resolving www.dropbox.com (www.dropbox.com)... 162.125.2.18, 2620:100:6017:18::a27d:212\n",
            "Connecting to www.dropbox.com (www.dropbox.com)|162.125.2.18|:443... connected.\n",
            "HTTP request sent, awaiting response... 302 Found\n",
            "Location: https://www.dropbox.com/scl/fi/ujmigz0ky1r9ps75u8h1d/demo_round_traces.csv?rlkey=24f4k6ipomzkq1lj8kz2gayds [following]\n",
            "--2024-09-01 02:42:55--  https://www.dropbox.com/scl/fi/ujmigz0ky1r9ps75u8h1d/demo_round_traces.csv?rlkey=24f4k6ipomzkq1lj8kz2gayds\n",
            "Reusing existing connection to www.dropbox.com:443.\n",
            "HTTP request sent, awaiting response... 302 Found\n",
            "Location: https://uc4a3b53a1575df025f4b8a137bd.dl.dropboxusercontent.com/cd/0/inline/CZt6NPprF07SReSE192DvCSsXw9l_eyxua4Z_NGEa9HL_z5OY_0h-wPcPAUtx9xCZPPeRyjrOybXJnCYlSwnIGqJfyDYssZ5lfrArVsC0nWHF4g3Ef9NNtIlPd2xiGWJaj94htZ_ET5c0oZyGBF4yEOe/file# [following]\n",
            "--2024-09-01 02:42:55--  https://uc4a3b53a1575df025f4b8a137bd.dl.dropboxusercontent.com/cd/0/inline/CZt6NPprF07SReSE192DvCSsXw9l_eyxua4Z_NGEa9HL_z5OY_0h-wPcPAUtx9xCZPPeRyjrOybXJnCYlSwnIGqJfyDYssZ5lfrArVsC0nWHF4g3Ef9NNtIlPd2xiGWJaj94htZ_ET5c0oZyGBF4yEOe/file\n",
            "Resolving uc4a3b53a1575df025f4b8a137bd.dl.dropboxusercontent.com (uc4a3b53a1575df025f4b8a137bd.dl.dropboxusercontent.com)... 162.125.2.15, 2620:100:6017:15::a27d:20f\n",
            "Connecting to uc4a3b53a1575df025f4b8a137bd.dl.dropboxusercontent.com (uc4a3b53a1575df025f4b8a137bd.dl.dropboxusercontent.com)|162.125.2.15|:443... connected.\n",
            "HTTP request sent, awaiting response... 200 OK\n",
            "Length: 21482809 (20M) [text/plain]\n",
            "Saving to: ‘demo_round_traces.csv’\n",
            "\n",
            "demo_round_traces.c 100%[===================>]  20.49M  42.9MB/s    in 0.5s    \n",
            "\n",
            "2024-09-01 02:42:57 (42.9 MB/s) - ‘demo_round_traces.csv’ saved [21482809/21482809]\n",
            "\n"
          ]
        }
      ],
      "source": [
        "!wget https://www.dropbox.com/s/sst1u94436vqca6/demo_round_traces.csv"
      ]
    }
  ]
}